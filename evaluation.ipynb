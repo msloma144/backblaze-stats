{
 "cells": [
  {
   "cell_type": "markdown",
   "metadata": {},
   "source": [
    "# Backblaze SSDs vs HDDs Endurance\n",
    "\n",
    "Backblaze stated in [this](https://www.backblaze.com/blog/are-ssds-really-more-reliable-than-hard-drives/) article that SSDs seem\n",
    "to fail at quicker rate than HDDs when it comes to raw power on hours. SSD lives however are typically measured in terabytes written (TBW),\n",
    "not in power on hours; Unlike HDDs where there are moving parts that wear down with use, SSDs memory cells ware down over time\n",
    "with the number of writes that are performed. In this analysis, we put to the test if the SSDs in Backblaze's study likely failed\n",
    "due to power on hours, or if they failed due to too many write cycles.\n",
    "\n",
    "In the `data_downloader.py` we downloaded all the data from Backblaze and stripped the data down to just the columns we need\n",
    "for this analysis. The remaining columns are:\n",
    "* date\n",
    "* serial_number\n",
    "* model\n",
    "* capacity_bytes\n",
    "* failure\n",
    "* Smart 9: Power-on Hours (raw/normalized)\n",
    "* Smart 241: Total LBAs Written (raw/normalized)\n",
    "* Smart 242: Total LBAs Read (raw/normalized)\n",
    "\n",
    "Backblaze only looked at boot drives, not storage drives. Thus, since they don't define which drives are boot drives vs\n",
    "storage drives, so we use the heuristic of drives that are below 2TB as storage drives normally start around 3TB. We can\n",
    "see that of the drives that are below 2TB, the max is ~1TB so we can be reasonably assured that our heuristic is okay.\n"
   ]
  },
  {
   "cell_type": "markdown",
   "source": [
    "Below we parse through the data we downloaded earlier. We keep track of number of failed drives and their serial\n",
    "numbers in `year_drives_hdds` and `year_drives_ssds` respectively. We also keep track of the row of smart data for each\n",
    "failed drive in `failed_drives` so we can analyze the data later. We then also keep track of the power on hours for\n",
    "each drive in the year in `power_on_hours_years_hdd` and `power_on_hours_years_ssd` respectively; We also keep track\n",
    "of the power on hours irrespective of drive type in `power_on_hours_years`. We use this data for keeping track of the\n",
    "start power on hours for the year and the end power on hours for the year, so we can then deduce how many hours were\n",
    "racked up in the year. This then give us the \"drive days\" or the number of effective days that the drive was on for.\n",
    "\n",
    "We also mark if a drive is an SSD or not based on if the drive model is in our list of SSD models. This was collected\n",
    "from the data in this processing step."
   ],
   "metadata": {
    "collapsed": false
   }
  },
  {
   "cell_type": "code",
   "execution_count": null,
   "outputs": [],
   "source": [
    "import glob\n",
    "import lzma\n",
    "import pickle\n",
    "import pandas as pd\n",
    "import numpy as np\n",
    "import os\n",
    "from datetime import datetime\n",
    "\n",
    "failed_drives = {\"ssd\": [], \"hdd\": []}\n",
    "\n",
    "# year > {\"all_drives\": set(), \"failed_drives\": 0}\n",
    "year_drives_hdds = {}\n",
    "\n",
    "year_drives_ssds = {}\n",
    "\n",
    "ssd_models = set()\n",
    "\n",
    "power_on_hours_years = {}\n",
    "\n",
    "power_on_hours_years_hdd = {}\n",
    "power_on_hours_years_ssd = {}\n",
    "\n",
    "for file in sorted(glob.glob(\"./data/*.xz\")):\n",
    "    print(f\"Loading: {file}\")\n",
    "    with lzma.open(file, \"rb\") as f:\n",
    "        dfs = pickle.load(f)\n",
    "\n",
    "        for dict_vals in sorted(dfs, key=lambda x: x[\"filename\"]): # todo sort by date\n",
    "            filename = dict_vals[\"filename\"]\n",
    "            date_df = pd.DataFrame.from_dict(dict_vals[\"data\"])\n",
    "\n",
    "            date_df[\"isSSD\"] = date_df[\"model\"].map(lambda x: 1 if x in ssd_endurance.keys() else 0)\n",
    "\n",
    "            # only get the boot hard drives\n",
    "            boot_hdd = date_df[(date_df[\"capacity_bytes\"] <= 2250059350016) & (date_df[\"isSSD\"] == 0)]\n",
    "            boot_ssd = date_df[date_df[\"isSSD\"] == 1]\n",
    "\n",
    "            date_df = pd.concat([boot_hdd, boot_ssd])\n",
    "\n",
    "            unique_serial_numbers_hdds = date_df[\"serial_number\"][pd.isna(date_df[\"smart_173_raw\"])].unique().tolist()\n",
    "            unique_serial_numbers_ssds = date_df[\"serial_number\"][~pd.isna(date_df[\"smart_173_raw\"])].unique().tolist()\n",
    "            ssd_models.update(date_df[\"model\"][~pd.isna(date_df[\"smart_173_raw\"])].unique().tolist())\n",
    "\n",
    "            year = os.path.basename(filename)[:4]\n",
    "            datetime = datetime.strptime(os.path.basename(filename)[:-4], '%Y-%m-%d')\n",
    "            if year not in year_drives_hdds.keys():\n",
    "                year_drives_ssds[year] = {\"all_drives\": set(unique_serial_numbers_ssds), \"failed_drives\": 0}\n",
    "                year_drives_hdds[year] = {\"all_drives\": set(unique_serial_numbers_hdds), \"failed_drives\": 0}\n",
    "                power_on_hours_years[year] = {}\n",
    "                power_on_hours_years_ssd[year] = {}\n",
    "                power_on_hours_years_hdd[year] = {}\n",
    "            else:\n",
    "                year_drives_ssds[year][\"all_drives\"].update(unique_serial_numbers_ssds)\n",
    "                year_drives_hdds[year][\"all_drives\"].update(unique_serial_numbers_hdds)\n",
    "\n",
    "            for index, item in date_df.iterrows():\n",
    "                if power_on_hours_years[year].get(item[\"serial_number\"], -1) != -1:\n",
    "                    if datetime > power_on_hours_years[year][item[\"serial_number\"]][\"datetimeEnd\"]:\n",
    "                        power_on_hours_years[year][item[\"serial_number\"]][\"datetimeEnd\"] = datetime\n",
    "                        power_on_hours_years[year][item[\"serial_number\"]][\"powerOnHoursEnd\"] = item[\"smart_9_raw\"]\n",
    "                        if item[\"isSSD\"] == 1:\n",
    "                            power_on_hours_years_ssd[year][item[\"serial_number\"]][\"datetimeEnd\"] = datetime\n",
    "                            power_on_hours_years_ssd[year][item[\"serial_number\"]][\"powerOnHoursEnd\"] = item[\"smart_9_raw\"]\n",
    "                        else:\n",
    "                            power_on_hours_years_hdd[year][item[\"serial_number\"]][\"datetimeEnd\"] = datetime\n",
    "                            power_on_hours_years_hdd[year][item[\"serial_number\"]][\"powerOnHoursEnd\"] = item[\"smart_9_raw\"]\n",
    "\n",
    "                    elif datetime < power_on_hours_years[year][item[\"serial_number\"]][\"datetimeStart\"]:\n",
    "                        power_on_hours_years[year][item[\"serial_number\"]][\"datetimeStart\"] = datetime\n",
    "                        power_on_hours_years[year][item[\"serial_number\"]][\"powerOnHoursStart\"] = item[\"smart_9_raw\"]\n",
    "                        if item[\"isSSD\"] == 1:\n",
    "                            power_on_hours_years_ssd[year][item[\"serial_number\"]][\"datetimeStart\"] = datetime\n",
    "                            power_on_hours_years_ssd[year][item[\"serial_number\"]][\"powerOnHoursStart\"] = item[\"smart_9_raw\"]\n",
    "                        else:\n",
    "                            power_on_hours_years_hdd[year][item[\"serial_number\"]][\"datetimeStart\"] = datetime\n",
    "                            power_on_hours_years_hdd[year][item[\"serial_number\"]][\"powerOnHoursStart\"] = item[\"smart_9_raw\"]\n",
    "                else:\n",
    "                    power_on_hours_years[year][item[\"serial_number\"]] = {\"datetimeStart\": datetime, \"powerOnHoursStart\": item[\"smart_9_raw\"],\n",
    "                                                                         \"datetimeEnd\": datetime, \"powerOnHoursEnd\": item[\"smart_9_raw\"]}\n",
    "\n",
    "                    if item[\"isSSD\"] == 1:\n",
    "                        power_on_hours_years_ssd[year][item[\"serial_number\"]] = {\"datetimeStart\": datetime, \"powerOnHoursStart\": item[\"smart_9_raw\"],\n",
    "                                                                                 \"datetimeEnd\": datetime, \"powerOnHoursEnd\": item[\"smart_9_raw\"]}\n",
    "                    else:\n",
    "                        power_on_hours_years_hdd[year][item[\"serial_number\"]] = {\"datetimeStart\": datetime, \"powerOnHoursStart\": item[\"smart_9_raw\"],\n",
    "                                                                                 \"datetimeEnd\": datetime, \"powerOnHoursEnd\": item[\"smart_9_raw\"]}\n",
    "\n",
    "            failed = date_df.loc[date_df['failure'] == 1]\n",
    "\n",
    "            year_drives_hdds[year][\"failed_drives\"] += len(failed[failed[\"isSSD\"] == 0])\n",
    "            year_drives_ssds[year][\"failed_drives\"] += len(failed[failed[\"isSSD\"] == 1])\n",
    "\n",
    "            for index, item in failed.iterrows():\n",
    "                if item[\"isSSD\"] == 1:\n",
    "                    failed_drives[\"ssd\"].append(item.to_dict())\n",
    "                else:\n",
    "                    failed_drives[\"hdd\"].append(item.to_dict())\n",
    "del dfs\n",
    "del f"
   ],
   "metadata": {
    "collapsed": false,
    "pycharm": {
     "name": "#%%\n"
    }
   }
  },
  {
   "cell_type": "markdown",
   "source": [
    "![Backblaze Stats](./imgs/image1-2.webp)\n",
    "\n",
    "We can see that from 4/2013 to 6/2021, Backblaze has a HDD count of 1607, 619 HDD failures, and a SSD count of 1666, 17 SSD drive failures.\n",
    "We can see that we got a different drive count, 1909 HDDs, 2061 HDD failures and 1100 SSDs and 14 SSD failures. It is hard to\n",
    "say what caused this exactly but they're within the same ballpark so we continue with our analysis."
   ],
   "metadata": {
    "collapsed": false,
    "pycharm": {
     "name": "#%% md\n"
    }
   }
  },
  {
   "cell_type": "code",
   "execution_count": 49,
   "outputs": [
    {
     "name": "stdout",
     "output_type": "stream",
     "text": [
      "Total HDDs: 1909\n",
      "Total SSDs: 1100\n",
      "\n",
      "Total Failed SSDs: 14\n",
      "Total Failed HDDs: 2061\n",
      "HDD Failure rate 2013: 0.03681117640536645\n",
      "HDD Failure rate 2014: 0.04558434690639873\n",
      "HDD Failure rate 2015: 0.04809619238476954\n",
      "HDD Failure rate 2016: 0.02808594298553574\n",
      "HDD Failure rate 2017: 0.008665511265164644\n",
      "HDD Failure rate 2018: 0.04164170161773517\n",
      "HDD Failure rate 2019: 0.026352874859075535\n",
      "HDD Failure rate 2020: 0.0091952880361847\n",
      "HDD Failure rate 2021: 0.0052056220718375845\n",
      "\n",
      "SSD Failure rate 2018: 0.0\n",
      "SSD Failure rate 2019: 0.0034965034965034965\n",
      "SSD Failure rate 2020: 0.005439709882139619\n",
      "SSD Failure rate 2021: 0.004824259131633356\n"
     ]
    }
   ],
   "source": [
    "print(f\"Total HDDs: {len(unique_serial_numbers_hdds)}\")\n",
    "print(f\"Total SSDs: {len(unique_serial_numbers_ssds)}\")\n",
    "\n",
    "print()\n",
    "\n",
    "print(f\"Total Failed SSDs: {len(failed_drives['ssd'])}\")\n",
    "print(f\"Total Failed HDDs: {len(failed_drives['hdd'])}\")\n",
    "\n",
    "print()"
   ],
   "metadata": {
    "collapsed": false,
    "pycharm": {
     "name": "#%%\n"
    }
   }
  },
  {
   "cell_type": "markdown",
   "source": [
    "Below we can see the rate of drive failures in each year."
   ],
   "metadata": {
    "collapsed": false
   }
  },
  {
   "cell_type": "code",
   "execution_count": null,
   "outputs": [],
   "source": [
    "hdd_failure_rates = []\n",
    "for key in year_drives_hdds.keys():\n",
    "    if len(year_drives_hdds[key]['all_drives']) > 0:\n",
    "        failure_rate = year_drives_hdds[key]['failed_drives'] / len(year_drives_hdds[key]['all_drives'])\n",
    "        hdd_failure_rates.append(failure_rate)\n",
    "        print(f\"HDD Failure rate {key}: {failure_rate}\")\n",
    "\n",
    "print()\n",
    "ssd_failure_rates = []\n",
    "for key in year_drives_ssds.keys():\n",
    "    if len(year_drives_ssds[key]['all_drives']) > 0:\n",
    "        failure_rate = year_drives_ssds[key]['failed_drives'] / len(year_drives_ssds[key]['all_drives'])\n",
    "        ssd_failure_rates.append(failure_rate)\n",
    "        print(f\"SSD Failure rate {key}: {year_drives_ssds[key]['failed_drives'] / len(year_drives_ssds[key]['all_drives'])}\")"
   ],
   "metadata": {
    "collapsed": false,
    "pycharm": {
     "name": "#%%\n"
    }
   }
  },
  {
   "cell_type": "code",
   "execution_count": 50,
   "metadata": {
    "pycharm": {
     "name": "#%%\n"
    }
   },
   "outputs": [
    {
     "data": {
      "text/plain": "<matplotlib.legend.Legend at 0x2332f0384a8>"
     },
     "execution_count": 50,
     "metadata": {},
     "output_type": "execute_result"
    },
    {
     "data": {
      "text/plain": "<Figure size 432x288 with 1 Axes>",
      "image/png": "[encoded data removed]"
     },
     "metadata": {
      "needs_background": "light"
     },
     "output_type": "display_data"
    }
   ],
   "source": [
    "import matplotlib.pyplot as plt\n",
    "plt.plot(list(year_drives_hdds.keys()), hdd_failure_rates, label=\"HDDs\")\n",
    "plt.plot([\"2018\", \"2019\", \"2020\", \"2021\"], ssd_failure_rates, label=\"SSDs\")\n",
    "plt.ylabel('Failure Rate')\n",
    "plt.xlabel('Year')\n",
    "plt.legend()"
   ]
  },
  {
   "cell_type": "markdown",
   "source": [
    "Next, we compute the annualized failure rate (AFR) based on [this](https://www.backblaze.com/blog/hard-drive-reliability-q4-2015/) article\n",
    "from Backblaze to ensure we are using the same AFR metric as their analysis."
   ],
   "metadata": {
    "collapsed": false
   }
  },
  {
   "cell_type": "code",
   "execution_count": 51,
   "metadata": {
    "pycharm": {
     "name": "#%%\n"
    }
   },
   "outputs": [
    {
     "name": "stdout",
     "output_type": "stream",
     "text": [
      "AFR SSD\n",
      "AFR 2018: 0.0\n",
      "AFR 2019: 1.2273359664079826\n",
      "AFR 2020: 0.8819474123753532\n",
      "AFR 2021: 1.1189705470966709\n",
      "\n",
      "AFR HDD\n",
      "AFR 2013: 5.417587241592478\n",
      "AFR 2014: 5.237883606794699\n",
      "AFR 2015: 5.982598276616726\n",
      "AFR 2016: 4.834308891532981\n",
      "AFR 2017: 2.653846876266712\n",
      "AFR 2018: 7.868406516501527\n",
      "AFR 2019: 10.77883696841295\n",
      "AFR 2020: 10.686792249774193\n",
      "AFR 2021: 13.262933528010514\n",
      "\n",
      "AFR All\n",
      "AFR 2013: 5.417587241592478\n",
      "AFR 2014: 5.237883606794699\n",
      "AFR 2015: 5.982598276616726\n",
      "AFR 2016: 4.834308891532981\n",
      "AFR 2017: 2.653846876266712\n",
      "AFR 2018: 7.862429565896566\n",
      "AFR 2019: 10.350380569179174\n",
      "AFR 2020: 7.920639468223236\n",
      "AFR 2021: 8.041490740422542\n",
      "\n",
      "HDD Cumulative\n",
      "AFR 2013: 5.417587241592478\n",
      "AFR 2014: 5.3145904833742605\n",
      "AFR 2015: 5.538138779275961\n",
      "AFR 2016: 5.424903663922188\n",
      "AFR 2017: 5.25348156849409\n",
      "AFR 2018: 5.41180577163504\n",
      "AFR 2019: 5.713022478845436\n",
      "AFR 2020: 5.976789650227349\n",
      "AFR 2021: 6.157326143003943\n"
     ]
    }
   ],
   "source": [
    "def get_afr(year_hours, year_drives_failed, dict_to_populate):\n",
    "    for year in year_hours.keys():\n",
    "        if year_hours[year] > 0:\n",
    "            afr_ = afr(year_drives_failed[year], year_hours[year])\n",
    "            dict_to_populate[year] = afr_\n",
    "            print(f\"AFR {year}: {afr_}\")\n",
    "\n",
    "def get_year_hours(power_on_hours):\n",
    "    year_hours = {}\n",
    "    for year in power_on_hours.keys():\n",
    "        year_hours[year] = 0\n",
    "        for drive in power_on_hours[year].keys():\n",
    "            if not pd.isna(power_on_hours[year][drive][\"powerOnHoursEnd\"]) and not pd.isna(power_on_hours[year][drive][\"powerOnHoursStart\"]):\n",
    "                year_hours[year] += power_on_hours[year][drive][\"powerOnHoursEnd\"] - power_on_hours[year][drive][\"powerOnHoursStart\"]\n",
    "\n",
    "    return year_hours\n",
    "\n",
    "# get the drive hours in each year (end of the year power on hours - start of the year power on hours)\n",
    "year_hours_all = get_year_hours(power_on_hours_years)\n",
    "year_hours_ssd = get_year_hours(power_on_hours_years_ssd)\n",
    "year_hours_hdd = get_year_hours(power_on_hours_years_hdd)\n",
    "\n",
    "# annualized failure rate\n",
    "\n",
    "year_drives_failed_all = {}\n",
    "year_drives_failed_hdd = {}\n",
    "for key in year_drives_hdds.keys():\n",
    "    year_drives_failed_hdd[key] = year_drives_hdds[key]['failed_drives']\n",
    "    year_drives_failed_all[key] = year_drives_hdds[key]['failed_drives']\n",
    "\n",
    "year_drives_failed_ssd = {}\n",
    "for key in year_drives_ssds.keys():\n",
    "    year_drives_failed_ssd[key] = year_drives_ssds[key]['failed_drives']\n",
    "    year_drives_failed_all[key] += year_drives_ssds[key]['failed_drives']\n",
    "\n",
    "def afr(num_failed_drives, total_drive_hours):\n",
    "    return (100*num_failed_drives)/(total_drive_hours/24/365)\n",
    "\n",
    "afr_ssd = {}\n",
    "print(\"AFR SSD\")\n",
    "get_afr(year_hours_ssd, year_drives_failed_ssd, afr_ssd)\n",
    "\n",
    "print()\n",
    "afr_hdd = {}\n",
    "print(\"AFR HDD\")\n",
    "get_afr(year_hours_hdd, year_drives_failed_hdd, afr_hdd)\n",
    "\n",
    "print()\n",
    "afr_all = {}\n",
    "print(\"AFR All\")\n",
    "get_afr(year_hours_all, year_drives_failed_all, afr_all)\n",
    "\n",
    "def process_for_plot(input_):\n",
    "    years = []\n",
    "    num = []\n",
    "\n",
    "    for key in input_.keys():\n",
    "        years.append(key)\n",
    "        num.append(input_[key])\n",
    "\n",
    "    return years, num\n",
    "\n",
    "print()\n",
    "print(\"HDD Cumulative\")\n",
    "cumulative_hdd = {}\n",
    "curr_faileds = 0\n",
    "curr_hours = 0\n",
    "for year in year_hours_hdd.keys():\n",
    "    if year_hours_hdd[year] > 0:\n",
    "        curr_faileds += year_drives_failed_hdd[year]\n",
    "        curr_hours += year_hours_hdd[year]\n",
    "\n",
    "        afr_ = afr(curr_faileds, curr_hours)\n",
    "        cumulative_hdd[year] = afr_\n",
    "        print(f\"AFR {year}: {afr_}\")"
   ]
  },
  {
   "cell_type": "code",
   "execution_count": 52,
   "outputs": [
    {
     "name": "stdout",
     "output_type": "stream",
     "text": [
      "AFR SSD\n",
      "AFR 2018: 0.0\n",
      "AFR 2019: 1.153899349943688\n",
      "AFR 2020: 0.7595815884706614\n",
      "AFR 2021: 0.48899782797882574\n",
      "\n",
      "AFR HDD\n",
      "AFR 2013: 1.155905243511885\n",
      "AFR 2014: 1.181211428686417\n",
      "AFR 2015: 1.0762756745765234\n",
      "AFR 2016: 0.6198070858935665\n",
      "AFR 2017: 0.68564606400546\n",
      "AFR 2018: 2.152622459837346\n",
      "AFR 2019: 3.0780979124208123\n",
      "AFR 2020: 2.772714362292549\n",
      "AFR 2021: 1.5830097645056125\n",
      "\n",
      "AFR All\n",
      "AFR 2013: 1.155905243511885\n",
      "AFR 2014: 1.181211428686417\n",
      "AFR 2015: 1.0762756745765234\n",
      "AFR 2016: 0.6198070858935665\n",
      "AFR 2017: 0.68564606400546\n",
      "AFR 2018: 2.1521524255009172\n",
      "AFR 2019: 3.0510351997846517\n",
      "AFR 2020: 2.5596112088317566\n",
      "AFR 2021: 1.396133457346905\n",
      "\n",
      "HDD Cumulative\n",
      "AFR 2013: 1.155905243511885\n",
      "AFR 2014: 1.1700651972768228\n",
      "AFR 2015: 1.1343308075258889\n",
      "AFR 2016: 1.013686132318554\n",
      "AFR 2017: 0.9987535382606147\n",
      "AFR 2018: 1.048215562075756\n",
      "AFR 2019: 1.1269069882634515\n",
      "AFR 2020: 1.1941172034759076\n",
      "AFR 2021: 1.20998219021349\n"
     ]
    }
   ],
   "source": [
    "# Analyzing full drive hours, not just in that year\n",
    "\n",
    "def get_year_hours(power_on_hours):\n",
    "    year_hours = {}\n",
    "    for year in power_on_hours.keys():\n",
    "        year_hours[year] = 0\n",
    "        for drive in power_on_hours[year].keys():\n",
    "            if not pd.isna(power_on_hours[year][drive][\"powerOnHoursEnd\"]):\n",
    "                year_hours[year] += power_on_hours[year][drive][\"powerOnHoursEnd\"]\n",
    "\n",
    "    return year_hours\n",
    "\n",
    "year_hours_all = get_year_hours(power_on_hours_years)\n",
    "year_hours_ssd = get_year_hours(power_on_hours_years_ssd)\n",
    "year_hours_hdd = get_year_hours(power_on_hours_years_hdd)\n",
    "\n",
    "# annualized failure rate\n",
    "\n",
    "year_drives_failed_all = {}\n",
    "year_drives_failed_hdd = {}\n",
    "for key in year_drives_hdds.keys():\n",
    "    year_drives_failed_hdd[key] = year_drives_hdds[key]['failed_drives']\n",
    "    year_drives_failed_all[key] = year_drives_hdds[key]['failed_drives']\n",
    "\n",
    "year_drives_failed_ssd = {}\n",
    "for key in year_drives_ssds.keys():\n",
    "    year_drives_failed_ssd[key] = year_drives_ssds[key]['failed_drives']\n",
    "    year_drives_failed_all[key] += year_drives_ssds[key]['failed_drives']\n",
    "\n",
    "def afr(num_failed_drives, total_drive_hours):\n",
    "    return (100*num_failed_drives)/(total_drive_hours/24/365)\n",
    "\n",
    "afr_ssd = {}\n",
    "print(\"AFR SSD\")\n",
    "get_afr(year_hours_ssd, year_drives_failed_ssd, afr_ssd)\n",
    "\n",
    "print()\n",
    "afr_hdd = {}\n",
    "print(\"AFR HDD\")\n",
    "get_afr(year_hours_hdd, year_drives_failed_hdd, afr_hdd)\n",
    "\n",
    "print()\n",
    "afr_all = {}\n",
    "print(\"AFR All\")\n",
    "get_afr(year_hours_all, year_drives_failed_all, afr_all)\n",
    "\n",
    "def process_for_plot(input_):\n",
    "    years = []\n",
    "    num = []\n",
    "\n",
    "    for key in input_.keys():\n",
    "        years.append(key)\n",
    "        num.append(input_[key])\n",
    "\n",
    "    return years, num\n",
    "\n",
    "print()\n",
    "print(\"HDD Cumulative\")\n",
    "cumulative_hdd = {}\n",
    "curr_faileds = 0\n",
    "curr_hours = 0\n",
    "for year in year_hours_hdd.keys():\n",
    "    if year_hours_hdd[year] > 0:\n",
    "        curr_faileds += year_drives_failed_hdd[year]\n",
    "        curr_hours += year_hours_hdd[year]\n",
    "\n",
    "        afr_ = afr(curr_faileds, curr_hours)\n",
    "        cumulative_hdd[year] = afr_\n",
    "        print(f\"AFR {year}: {afr_}\")\n"
   ],
   "metadata": {
    "collapsed": false,
    "pycharm": {
     "name": "#%%\n"
    }
   }
  },
  {
   "cell_type": "markdown",
   "source": [
    "![Backblaze Stats](./imgs/image2-1.webp)\n",
    "\n",
    "\n",
    "We can see in our plot below, that our plot and the plot provided by Backblaze for AFR rates varies substantially.\n",
    "This is concerning as it means that one of us is doing the analysis incorrectly, or that their statistics are not replicable\n",
    "based on the information they've provided. We then also plot the cumulative HDD AFR rate in case that is what they used\n",
    "and that diverges more."
   ],
   "metadata": {
    "collapsed": false
   }
  },
  {
   "cell_type": "code",
   "execution_count": 53,
   "outputs": [
    {
     "data": {
      "text/plain": "<matplotlib.legend.Legend at 0x235dfe8f278>"
     },
     "execution_count": 53,
     "metadata": {},
     "output_type": "execute_result"
    },
    {
     "data": {
      "text/plain": "<Figure size 432x288 with 1 Axes>",
      "image/png": "[encoded data removed]"
     },
     "metadata": {
      "needs_background": "light"
     },
     "output_type": "display_data"
    }
   ],
   "source": [
    "import matplotlib.pyplot as plt\n",
    "ssd_year, ssd_afr = process_for_plot(afr_ssd)\n",
    "hdd_year, hdd_afr = process_for_plot(afr_hdd)\n",
    "hdd_cum_year, hdd_cum_afr = process_for_plot(cumulative_hdd)\n",
    "\n",
    "plt.plot(hdd_year, hdd_afr, label=\"HDDs AFR\")\n",
    "plt.plot(hdd_cum_year, hdd_cum_afr, label=\"HDDs Cumulative AFR\")\n",
    "plt.plot(ssd_year, ssd_afr, label=\"SSDs AFR\")\n",
    "plt.ylabel('Failure Rate (AFR)')\n",
    "plt.xlabel('Year')\n",
    "plt.legend()"
   ],
   "metadata": {
    "collapsed": false,
    "pycharm": {
     "name": "#%%\n"
    }
   }
  },
  {
   "cell_type": "markdown",
   "source": [
    "We then collect the SSD's manufactures drive lifetimes in terabytes written (TBW) and their mean time between failure rate (MTBF)\n",
    "so we can compare the times that drives are failing with when we should expect the drives to fail."
   ],
   "metadata": {
    "collapsed": false
   }
  },
  {
   "cell_type": "code",
   "execution_count": 54,
   "outputs": [],
   "source": [
    "ssd_endurance = {'Seagate BarraCuda SSD ZA2000CM10002': (1067, 1800000),\n",
    "                 'MTFDDAV240TDU': (438, 3000000),\n",
    "                 'Seagate BarraCuda SSD ZA500CM10002': (249,1800000),\n",
    "                 'Seagate BarraCuda 120 SSD ZA250CM10003': (150, 1800000),\n",
    "                 'SSDSCKKB480G8R': (1200, 2000000),\n",
    "                 'Seagate SSD': (120, 1800000), # ZA250CM10002\n",
    "                 'Seagate BarraCuda SSD ZA250CM10002': (120, 1800000)}"
   ],
   "metadata": {
    "collapsed": false,
    "pycharm": {
     "name": "#%%\n"
    }
   }
  },
  {
   "cell_type": "markdown",
   "source": [
    "We can see that the SSDs seem to be failing far, far before we would expect them to. We can also see that the SMART data seems to be\n",
    "quite junk as some have drive lives over 100%. We can also see that the drives seem to have mere megabytes written to them based on\n",
    "the reported 241 values. The values here can be multiplied by the flash block size of 512 bytes to give us a figure of total bytes\n",
    "written. We can also see that almost no data has been read from the drives as the 242 values are also low. This makes me question\n",
    "if the smart data is accurate at all for these drives as this data is rather nonsensical. While I am not an expert on collecting drive\n",
    "information, this seems to suggest that Backblaze needs to rethink how they are collecting their data so that their published\n",
    "information can be independently verified by 3rd parties as currently that seems impossible. There also seems to be\n",
    "concern about Backblaze's data integrity from other comments as well on the site, so this leads us to question what data\n",
    "they're using for their analysis and if they're doing their analysis correctly. Overall it seems we can't complete the\n",
    "set out objective of looking at the TBW of the failed drives without better data so this analysis is dead in the water\n",
    "till that happens."
   ],
   "metadata": {
    "collapsed": false
   }
  },
  {
   "cell_type": "code",
   "execution_count": 55,
   "outputs": [
    {
     "name": "stdout",
     "output_type": "stream",
     "text": [
      "Year: 2019 | Model: Seagate BarraCuda SSD ZA500CM10002 | \"Endurance\": 249000000000000.0 | Smart Value: 13460.0 | % Endurance Used: 5.405622489959839e-09 | Life Left: 109951162777696.0 | Power On Hours %: 0.3458888888888889\n",
      "Year: 2020 | Model: Seagate BarraCuda SSD ZA250CM10002 | \"Endurance\": 120000000000000.0 | Smart Value: 6630.0 | % Endurance Used: 5.525000000000001e-09 | Life Left: 109951162777699.0 | Power On Hours %: 0.08833333333333333\n",
      "Year: 2020 | Model: Seagate BarraCuda SSD ZA250CM10002 | \"Endurance\": 120000000000000.0 | Smart Value: 6747.0 | % Endurance Used: 5.6224999999999996e-09 | Life Left: 109951162777699.0 | Power On Hours %: 0.08888888888888889\n",
      "Year: 2020 | Model: Seagate BarraCuda SSD ZA250CM10002 | \"Endurance\": 120000000000000.0 | Smart Value: 8001.0 | % Endurance Used: 6.667500000000001e-09 | Life Left: 109951162777698.0 | Power On Hours %: 0.12533333333333332\n",
      "Year: 2020 | Model: Seagate BarraCuda SSD ZA250CM10002 | \"Endurance\": 120000000000000.0 | Smart Value: 2681.0 | % Endurance Used: 2.2341666666666667e-09 | Life Left: 109951162777699.0 | Power On Hours %: 0.1277777777777778\n",
      "Year: 2020 | Model: Seagate BarraCuda SSD ZA250CM10002 | \"Endurance\": 120000000000000.0 | Smart Value: 13322.0 | % Endurance Used: 1.1101666666666666e-08 | Life Left: 109951162777686.0 | Power On Hours %: 0.3038888888888889\n",
      "Year: 2020 | Model: Seagate SSD | \"Endurance\": 120000000000000.0 | Smart Value: 20960.0 | % Endurance Used: 1.7466666666666664e-08 | Life Left: 109951162777679.0 | Power On Hours %: 0.5043333333333334\n",
      "Year: 2021 | Model: Seagate BarraCuda 120 SSD ZA250CM10003 | \"Endurance\": 150000000000000.0 | Smart Value: 2825.0 | % Endurance Used: 1.8833333333333332e-09 | Life Left: 97.0 | Power On Hours %: 0.032\n",
      "Year: 2021 | Model: MTFDDAV240TDU | \"Endurance\": 438000000000000.0 | Smart Value: 40587404928.0 | % Endurance Used: 0.009266530805479452 | Life Left: nan | Power On Hours %: 0.11056666666666667\n",
      "Year: 2021 | Model: MTFDDAV240TDU | \"Endurance\": 438000000000000.0 | Smart Value: 41155003168.0 | % Endurance Used: 0.009396119444748857 | Life Left: nan | Power On Hours %: 0.11443333333333333\n",
      "Year: 2021 | Model: Seagate BarraCuda 120 SSD ZA250CM10003 | \"Endurance\": 150000000000000.0 | Smart Value: 7647.0 | % Endurance Used: 5.098e-09 | Life Left: 90.0 | Power On Hours %: 0.11783333333333333\n",
      "Year: 2021 | Model: Seagate BarraCuda 120 SSD ZA250CM10003 | \"Endurance\": 150000000000000.0 | Smart Value: 3976.0 | % Endurance Used: 2.6506666666666666e-09 | Life Left: 96.0 | Power On Hours %: 0.04644444444444445\n",
      "Year: 2021 | Model: Seagate BarraCuda 120 SSD ZA250CM10003 | \"Endurance\": 150000000000000.0 | Smart Value: 599.0 | % Endurance Used: 3.993333333333333e-10 | Life Left: 99.0 | Power On Hours %: 0.006166666666666667\n",
      "Year: 2021 | Model: Seagate BarraCuda SSD ZA2000CM10002 | \"Endurance\": 1067000000000000.0 | Smart Value: 30160.0 | % Endurance Used: 2.8266166822867855e-09 | Life Left: 109951162777700.0 | Power On Hours %: 1.2153333333333334\n"
     ]
    }
   ],
   "source": [
    "for year in year_drives_ssds.keys():\n",
    "    for item in failed_drives[\"ssd\"]:\n",
    "        if item[\"date\"][:4] == year:\n",
    "            if item[\"model\"] in ssd_endurance.keys():\n",
    "                print(f\"Year: {year} | Model: {item['model']} | \"\n",
    "                      f\"Theoretical Endurance: {ssd_endurance[item['model']][0] * 1e12} bytes | \"\n",
    "                      f\"Smart Value: {item['smart_241_raw']} bytes | \"\n",
    "                      f\"% Endurance Used: {item['smart_241_raw'] / (ssd_endurance[item['model']][0] * 1e12) * 100} | \"\n",
    "                      f\"Life Left: {item['smart_231_raw']} | \"\n",
    "                      f\"Power On Hours %: {item['smart_9_raw'] / ssd_endurance[item['model']][1] * 100}\")"
   ],
   "metadata": {
    "collapsed": false,
    "pycharm": {
     "name": "#%%\n"
    }
   }
  },
  {
   "cell_type": "markdown",
   "source": [
    "Below you can see the raw SMART data for all the failed SSDs. We can see that there are a fair number of seemingly\n",
    "impossible values."
   ],
   "metadata": {
    "collapsed": false
   }
  },
  {
   "cell_type": "code",
   "execution_count": 56,
   "outputs": [
    {
     "data": {
      "text/plain": "[{'date': '2020-02-14',\n  'serial_number': '7LZ0228R',\n  'model': 'Seagate BarraCuda SSD ZA250CM10002',\n  'capacity_bytes': 250059350016,\n  'failure': 1,\n  'smart_9_normalized': 100.0,\n  'smart_9_raw': 1590.0,\n  'smart_173_normalized': 100.0,\n  'smart_173_raw': 4295753770.0,\n  'smart_231_normalized': 100.0,\n  'smart_231_raw': 109951162777699.0,\n  'smart_241_normalized': 100.0,\n  'smart_241_raw': 6630.0,\n  'smart_242_normalized': 100.0,\n  'smart_242_raw': 9.0,\n  'isSSD': 1},\n {'date': '2020-02-14',\n  'serial_number': '7LZ021NC',\n  'model': 'Seagate BarraCuda SSD ZA250CM10002',\n  'capacity_bytes': 250059350016,\n  'failure': 1,\n  'smart_9_normalized': 100.0,\n  'smart_9_raw': 1600.0,\n  'smart_173_normalized': 100.0,\n  'smart_173_raw': 4295753773.0,\n  'smart_231_normalized': 100.0,\n  'smart_231_raw': 109951162777699.0,\n  'smart_241_normalized': 100.0,\n  'smart_241_raw': 6747.0,\n  'smart_242_normalized': 100.0,\n  'smart_242_raw': 9.0,\n  'isSSD': 1},\n {'date': '2020-03-27',\n  'serial_number': '7LZ01G30',\n  'model': 'Seagate BarraCuda SSD ZA250CM10002',\n  'capacity_bytes': 250059350016,\n  'failure': 1,\n  'smart_9_normalized': 100.0,\n  'smart_9_raw': 2256.0,\n  'smart_173_normalized': 100.0,\n  'smart_173_raw': 8591638600.0,\n  'smart_231_normalized': 100.0,\n  'smart_231_raw': 109951162777698.0,\n  'smart_241_normalized': 100.0,\n  'smart_241_raw': 8001.0,\n  'smart_242_normalized': 100.0,\n  'smart_242_raw': 914.0,\n  'isSSD': 1},\n {'date': '2021-01-02',\n  'serial_number': '7QT024SR',\n  'model': 'Seagate BarraCuda 120 SSD ZA250CM10003',\n  'capacity_bytes': 250059350016,\n  'failure': 1,\n  'smart_9_normalized': 100.0,\n  'smart_9_raw': 576.0,\n  'smart_173_normalized': 100.0,\n  'smart_173_raw': 2555996.0,\n  'smart_231_normalized': 100.0,\n  'smart_231_raw': 97.0,\n  'smart_241_normalized': 100.0,\n  'smart_241_raw': 2825.0,\n  'smart_242_normalized': 100.0,\n  'smart_242_raw': 805.0,\n  'isSSD': 1},\n {'date': '2021-03-11',\n  'serial_number': '2021284E876C',\n  'model': 'MTFDDAV240TDU',\n  'capacity_bytes': 240057409536,\n  'failure': 1,\n  'smart_9_normalized': 100.0,\n  'smart_9_raw': 3317.0,\n  'smart_173_normalized': 100.0,\n  'smart_173_raw': 82.0,\n  'smart_231_normalized': nan,\n  'smart_231_raw': nan,\n  'smart_241_normalized': 100.0,\n  'smart_241_raw': 40587404928.0,\n  'smart_242_normalized': nan,\n  'smart_242_raw': nan,\n  'isSSD': 1},\n {'date': '2021-03-16',\n  'serial_number': '2021284E89BB',\n  'model': 'MTFDDAV240TDU',\n  'capacity_bytes': 240057409536,\n  'failure': 1,\n  'smart_9_normalized': 100.0,\n  'smart_9_raw': 3433.0,\n  'smart_173_normalized': 100.0,\n  'smart_173_raw': 81.0,\n  'smart_231_normalized': nan,\n  'smart_231_raw': nan,\n  'smart_241_normalized': 100.0,\n  'smart_241_raw': 41155003168.0,\n  'smart_242_normalized': nan,\n  'smart_242_raw': nan,\n  'isSSD': 1},\n {'date': '2021-05-10',\n  'serial_number': '7QT02V93',\n  'model': 'Seagate BarraCuda 120 SSD ZA250CM10003',\n  'capacity_bytes': 250059350016,\n  'failure': 1,\n  'smart_9_normalized': 100.0,\n  'smart_9_raw': 2121.0,\n  'smart_173_normalized': 100.0,\n  'smart_173_raw': 433801068745.0,\n  'smart_231_normalized': 100.0,\n  'smart_231_raw': 90.0,\n  'smart_241_normalized': 100.0,\n  'smart_241_raw': 7647.0,\n  'smart_242_normalized': 100.0,\n  'smart_242_raw': 7156.0,\n  'isSSD': 1},\n {'date': '2021-06-17',\n  'serial_number': '7QT032NR',\n  'model': 'Seagate BarraCuda 120 SSD ZA250CM10003',\n  'capacity_bytes': 250059350016,\n  'failure': 1,\n  'smart_9_normalized': 100.0,\n  'smart_9_raw': 836.0,\n  'smart_173_normalized': 100.0,\n  'smart_173_raw': 3407974.0,\n  'smart_231_normalized': 100.0,\n  'smart_231_raw': 96.0,\n  'smart_241_normalized': 100.0,\n  'smart_241_raw': 3976.0,\n  'smart_242_normalized': 100.0,\n  'smart_242_raw': 121.0,\n  'isSSD': 1},\n {'date': '2021-06-21',\n  'serial_number': '7QT01DJG',\n  'model': 'Seagate BarraCuda 120 SSD ZA250CM10003',\n  'capacity_bytes': 250059350016,\n  'failure': 1,\n  'smart_9_normalized': 100.0,\n  'smart_9_raw': 111.0,\n  'smart_173_normalized': 100.0,\n  'smart_173_raw': 4295426063.0,\n  'smart_231_normalized': 100.0,\n  'smart_231_raw': 99.0,\n  'smart_241_normalized': 100.0,\n  'smart_241_raw': 599.0,\n  'smart_242_normalized': 100.0,\n  'smart_242_raw': 3528.0,\n  'isSSD': 1},\n {'date': '2021-06-21',\n  'serial_number': '7M20022F',\n  'model': 'Seagate BarraCuda SSD ZA2000CM10002',\n  'capacity_bytes': 2000398934016,\n  'failure': 1,\n  'smart_9_normalized': 100.0,\n  'smart_9_raw': 21876.0,\n  'smart_173_normalized': 100.0,\n  'smart_173_raw': 4295491602.0,\n  'smart_231_normalized': 100.0,\n  'smart_231_raw': 109951162777700.0,\n  'smart_241_normalized': 100.0,\n  'smart_241_raw': 30160.0,\n  'smart_242_normalized': 100.0,\n  'smart_242_raw': 14716.0,\n  'isSSD': 1},\n {'date': '2019-07-24',\n  'serial_number': '7M000246',\n  'model': 'Seagate BarraCuda SSD ZA500CM10002',\n  'capacity_bytes': 500107862016,\n  'failure': 1,\n  'smart_9_normalized': 100.0,\n  'smart_9_raw': 6226.0,\n  'smart_173_normalized': 100.0,\n  'smart_173_raw': 4297916524.0,\n  'smart_231_normalized': 100.0,\n  'smart_231_raw': 109951162777696.0,\n  'smart_241_normalized': 100.0,\n  'smart_241_raw': 13460.0,\n  'smart_242_normalized': 100.0,\n  'smart_242_raw': 5381.0,\n  'isSSD': 1},\n {'date': '2020-07-16',\n  'serial_number': '7LZ022BP',\n  'model': 'Seagate BarraCuda SSD ZA250CM10002',\n  'capacity_bytes': 250059350016,\n  'failure': 1,\n  'smart_9_normalized': 100.0,\n  'smart_9_raw': 2300.0,\n  'smart_173_normalized': 100.0,\n  'smart_173_raw': 4296015926.0,\n  'smart_231_normalized': 100.0,\n  'smart_231_raw': 109951162777699.0,\n  'smart_241_normalized': 100.0,\n  'smart_241_raw': 2681.0,\n  'smart_242_normalized': 100.0,\n  'smart_242_raw': 791.0,\n  'isSSD': 1},\n {'date': '2020-09-12',\n  'serial_number': '7LZ045HN',\n  'model': 'Seagate BarraCuda SSD ZA250CM10002',\n  'capacity_bytes': 250059350016,\n  'failure': 1,\n  'smart_9_normalized': 100.0,\n  'smart_9_raw': 5470.0,\n  'smart_173_normalized': 100.0,\n  'smart_173_raw': 433801265355.0,\n  'smart_231_normalized': 100.0,\n  'smart_231_raw': 109951162777686.0,\n  'smart_241_normalized': 100.0,\n  'smart_241_raw': 13322.0,\n  'smart_242_normalized': 100.0,\n  'smart_242_raw': 10540.0,\n  'isSSD': 1},\n {'date': '2020-10-01',\n  'serial_number': 'NB1208TA',\n  'model': 'Seagate SSD',\n  'capacity_bytes': 250059350016,\n  'failure': 1,\n  'smart_9_normalized': 100.0,\n  'smart_9_raw': 9078.0,\n  'smart_173_normalized': 100.0,\n  'smart_173_raw': 743043498257.0,\n  'smart_231_normalized': 100.0,\n  'smart_231_raw': 109951162777679.0,\n  'smart_241_normalized': 100.0,\n  'smart_241_raw': 20960.0,\n  'smart_242_normalized': 100.0,\n  'smart_242_raw': 12591.0,\n  'isSSD': 1}]"
     },
     "execution_count": 56,
     "metadata": {},
     "output_type": "execute_result"
    }
   ],
   "source": [
    "failed_drives[\"ssd\"]"
   ],
   "metadata": {
    "collapsed": false,
    "pycharm": {
     "name": "#%%\n"
    }
   }
  },
  {
   "cell_type": "markdown",
   "source": [
    "Below you can see the analysis of what's a good cut off value for a boot drive"
   ],
   "metadata": {
    "collapsed": false
   }
  },
  {
   "cell_type": "code",
   "execution_count": 57,
   "outputs": [
    {
     "data": {
      "text/plain": "1000204886016"
     },
     "execution_count": 57,
     "metadata": {},
     "output_type": "execute_result"
    }
   ],
   "source": [
    "hdd_boots = date_df[(date_df[\"capacity_bytes\"] <= 2250059350016) & (date_df[\"isSSD\"] == 0)]\n",
    "print(f\"Max HDD capacity below 2TB: {hdd_boots['capacity_bytes'].max()} bytes\")"
   ],
   "metadata": {
    "collapsed": false,
    "pycharm": {
     "name": "#%%\n"
    }
   }
  }
 ],
 "metadata": {
  "kernelspec": {
   "display_name": "PyCharm (backblaze-stats)",
   "language": "python",
   "name": "pycharm-cb761fa8"
  },
  "language_info": {
   "codemirror_mode": {
    "name": "ipython",
    "version": 3
   },
   "file_extension": ".py",
   "mimetype": "text/x-python",
   "name": "python",
   "nbconvert_exporter": "python",
   "pygments_lexer": "ipython3",
   "version": "3.6.8"
  }
 },
 "nbformat": 4,
 "nbformat_minor": 1
}